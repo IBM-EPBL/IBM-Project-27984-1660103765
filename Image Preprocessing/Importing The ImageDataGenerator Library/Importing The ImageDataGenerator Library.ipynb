{
  "nbformat": 4,
  "nbformat_minor": 0,
  "metadata": {
    "colab": {
      "provenance": []
    },
    "kernelspec": {
      "name": "python3",
      "display_name": "Python 3"
    },
    "language_info": {
      "name": "python"
    }
  },
  "cells": [
    {
      "cell_type": "code",
      "execution_count": 6,
      "metadata": {
        "id": "qozZ7iEd2oGG"
      },
      "outputs": [],
      "source": [
        "#Importing The ImageDataGenerator Library\n",
        "import keras\n",
        "from keras.preprocessing.image import ImageDataGenerator"
      ]
    }
  ]
}